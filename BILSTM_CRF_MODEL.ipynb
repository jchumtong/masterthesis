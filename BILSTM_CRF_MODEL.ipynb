{
 "cells": [
  {
   "cell_type": "code",
   "execution_count": 17,
   "id": "bb856c53",
   "metadata": {},
   "outputs": [],
   "source": [
    "from sklearn_crfsuite import CRF\n",
    "from sklearn.model_selection import train_test_split\n",
    "from sklearn.metrics import classification_report\n",
    "from tensorflow.keras.preprocessing.sequence import pad_sequences\n",
    "import numpy as np\n",
    "import seaborn as sns\n",
    "import ast\n",
    "\n",
    "import tensorflow as tf\n",
    "\n",
    "import nltk\n",
    "import sklearn_crfsuite\n",
    "from sklearn_crfsuite import metrics\n",
    "import pandas as pd\n",
    "\n",
    "from tensorflow.keras.models import Model\n",
    "from tensorflow.keras.layers import Input, LSTM, Embedding, Dense, TimeDistributed, Dropout, Bidirectional\n",
    "\n",
    "from tensorflow_addons.layers import CRF\n",
    "from tensorflow_addons.losses import SigmoidFocalCrossEntropy\n",
    "from tensorflow_addons.optimizers import AdamW\n"
   ]
  },
  {
   "cell_type": "markdown",
   "id": "39d1f261",
   "metadata": {},
   "source": [
    "### Reading in Data ###"
   ]
  },
  {
   "cell_type": "code",
   "execution_count": 18,
   "id": "6b1d7ec7",
   "metadata": {},
   "outputs": [
    {
     "data": {
      "text/html": [
       "<div>\n",
       "<style scoped>\n",
       "    .dataframe tbody tr th:only-of-type {\n",
       "        vertical-align: middle;\n",
       "    }\n",
       "\n",
       "    .dataframe tbody tr th {\n",
       "        vertical-align: top;\n",
       "    }\n",
       "\n",
       "    .dataframe thead th {\n",
       "        text-align: right;\n",
       "    }\n",
       "</style>\n",
       "<table border=\"1\" class=\"dataframe\">\n",
       "  <thead>\n",
       "    <tr style=\"text-align: right;\">\n",
       "      <th></th>\n",
       "      <th>venue_id</th>\n",
       "      <th>receipt_key</th>\n",
       "      <th>receipt_file</th>\n",
       "      <th>tokenized_receipt</th>\n",
       "      <th>preprocessed_receipt</th>\n",
       "      <th>parsed_receipt</th>\n",
       "      <th>bio_tags</th>\n",
       "    </tr>\n",
       "  </thead>\n",
       "  <tbody>\n",
       "    <tr>\n",
       "      <th>0</th>\n",
       "      <td>5531</td>\n",
       "      <td>5531/01/0000000036812256/202003181643-u1584546...</td>\n",
       "      <td>*_*_*_*_*_*_*_*_*_*_*_*_*_*\\nThis receipt is p...</td>\n",
       "      <td>[[*_*_*_*_*_*_*_*_*_*_*_*_*_*], [This, receipt...</td>\n",
       "      <td>[[*_*_*_*_*_*_*_*_*_*_*_*_*_*]]</td>\n",
       "      <td>NaN</td>\n",
       "      <td>[[O]]</td>\n",
       "    </tr>\n",
       "    <tr>\n",
       "      <th>1</th>\n",
       "      <td>5531</td>\n",
       "      <td>5531/01/0000000036812256/202005150714-u1589519...</td>\n",
       "      <td>*_*_*_*_*_*_*_*_*_*_*_*_*_*\\nThis receipt is p...</td>\n",
       "      <td>[[*_*_*_*_*_*_*_*_*_*_*_*_*_*], [This, receipt...</td>\n",
       "      <td>[[*_*_*_*_*_*_*_*_*_*_*_*_*_*]]</td>\n",
       "      <td>NaN</td>\n",
       "      <td>[[O]]</td>\n",
       "    </tr>\n",
       "    <tr>\n",
       "      <th>2</th>\n",
       "      <td>5531</td>\n",
       "      <td>5531/01/0000000036812256/202005151410-u1589544...</td>\n",
       "      <td>*_*_*_*_*_*_*_*_*_*_*_*_*_*\\nThis receipt is p...</td>\n",
       "      <td>[[*_*_*_*_*_*_*_*_*_*_*_*_*_*], [This, receipt...</td>\n",
       "      <td>[[*_*_*_*_*_*_*_*_*_*_*_*_*_*]]</td>\n",
       "      <td>NaN</td>\n",
       "      <td>[[O]]</td>\n",
       "    </tr>\n",
       "    <tr>\n",
       "      <th>3</th>\n",
       "      <td>5531</td>\n",
       "      <td>5531/01/0000000036812256/202005152249-u1589575...</td>\n",
       "      <td>*_*_*_*_*_*_*_*_*_*_*_*_*_*\\nThis receipt is p...</td>\n",
       "      <td>[[*_*_*_*_*_*_*_*_*_*_*_*_*_*], [This, receipt...</td>\n",
       "      <td>[[*_*_*_*_*_*_*_*_*_*_*_*_*_*]]</td>\n",
       "      <td>NaN</td>\n",
       "      <td>[[O]]</td>\n",
       "    </tr>\n",
       "    <tr>\n",
       "      <th>4</th>\n",
       "      <td>5531</td>\n",
       "      <td>5531/01/0000000036812256/202005180927-u1589786...</td>\n",
       "      <td>*_*_*_*_*_*_*_*_*_*_*_*_*_*\\nThis receipt is p...</td>\n",
       "      <td>[[*_*_*_*_*_*_*_*_*_*_*_*_*_*], [This, receipt...</td>\n",
       "      <td>[[*_*_*_*_*_*_*_*_*_*_*_*_*_*]]</td>\n",
       "      <td>NaN</td>\n",
       "      <td>[[O]]</td>\n",
       "    </tr>\n",
       "  </tbody>\n",
       "</table>\n",
       "</div>"
      ],
      "text/plain": [
       "   venue_id                                        receipt_key  \\\n",
       "0      5531  5531/01/0000000036812256/202003181643-u1584546...   \n",
       "1      5531  5531/01/0000000036812256/202005150714-u1589519...   \n",
       "2      5531  5531/01/0000000036812256/202005151410-u1589544...   \n",
       "3      5531  5531/01/0000000036812256/202005152249-u1589575...   \n",
       "4      5531  5531/01/0000000036812256/202005180927-u1589786...   \n",
       "\n",
       "                                        receipt_file  \\\n",
       "0  *_*_*_*_*_*_*_*_*_*_*_*_*_*\\nThis receipt is p...   \n",
       "1  *_*_*_*_*_*_*_*_*_*_*_*_*_*\\nThis receipt is p...   \n",
       "2  *_*_*_*_*_*_*_*_*_*_*_*_*_*\\nThis receipt is p...   \n",
       "3  *_*_*_*_*_*_*_*_*_*_*_*_*_*\\nThis receipt is p...   \n",
       "4  *_*_*_*_*_*_*_*_*_*_*_*_*_*\\nThis receipt is p...   \n",
       "\n",
       "                                   tokenized_receipt  \\\n",
       "0  [[*_*_*_*_*_*_*_*_*_*_*_*_*_*], [This, receipt...   \n",
       "1  [[*_*_*_*_*_*_*_*_*_*_*_*_*_*], [This, receipt...   \n",
       "2  [[*_*_*_*_*_*_*_*_*_*_*_*_*_*], [This, receipt...   \n",
       "3  [[*_*_*_*_*_*_*_*_*_*_*_*_*_*], [This, receipt...   \n",
       "4  [[*_*_*_*_*_*_*_*_*_*_*_*_*_*], [This, receipt...   \n",
       "\n",
       "              preprocessed_receipt parsed_receipt bio_tags  \n",
       "0  [[*_*_*_*_*_*_*_*_*_*_*_*_*_*]]            NaN    [[O]]  \n",
       "1  [[*_*_*_*_*_*_*_*_*_*_*_*_*_*]]            NaN    [[O]]  \n",
       "2  [[*_*_*_*_*_*_*_*_*_*_*_*_*_*]]            NaN    [[O]]  \n",
       "3  [[*_*_*_*_*_*_*_*_*_*_*_*_*_*]]            NaN    [[O]]  \n",
       "4  [[*_*_*_*_*_*_*_*_*_*_*_*_*_*]]            NaN    [[O]]  "
      ]
     },
     "execution_count": 18,
     "metadata": {},
     "output_type": "execute_result"
    }
   ],
   "source": [
    "df = pd.read_csv('final_df.csv')\n",
    "\n",
    "df['preprocessed_receipt'] = df['preprocessed_receipt'].apply(ast.literal_eval)\n",
    "df['bio_tags'] = df['bio_tags'].apply(ast.literal_eval)\n",
    "df['tokenized_receipt'] = df['tokenized_receipt'].apply(ast.literal_eval)\n",
    "\n",
    "df.head()"
   ]
  },
  {
   "cell_type": "code",
   "execution_count": 19,
   "id": "641548f9",
   "metadata": {},
   "outputs": [
    {
     "data": {
      "text/html": [
       "<div>\n",
       "<style scoped>\n",
       "    .dataframe tbody tr th:only-of-type {\n",
       "        vertical-align: middle;\n",
       "    }\n",
       "\n",
       "    .dataframe tbody tr th {\n",
       "        vertical-align: top;\n",
       "    }\n",
       "\n",
       "    .dataframe thead th {\n",
       "        text-align: right;\n",
       "    }\n",
       "</style>\n",
       "<table border=\"1\" class=\"dataframe\">\n",
       "  <thead>\n",
       "    <tr style=\"text-align: right;\">\n",
       "      <th></th>\n",
       "      <th>venue_id</th>\n",
       "      <th>receipt_key</th>\n",
       "      <th>receipt_file</th>\n",
       "      <th>tokenized_receipt</th>\n",
       "      <th>preprocessed_receipt</th>\n",
       "      <th>parsed_receipt</th>\n",
       "      <th>bio_tags</th>\n",
       "    </tr>\n",
       "  </thead>\n",
       "  <tbody>\n",
       "    <tr>\n",
       "      <th>0</th>\n",
       "      <td>5531</td>\n",
       "      <td>5531/01/0000000036812256/202007161954-u1594922...</td>\n",
       "      <td>**start**                                 \\n--...</td>\n",
       "      <td>[[**start**], [--paid--], [Table:, 2], [------...</td>\n",
       "      <td>[[1, x, Thee, =&gt;, 2,20], [3, x, Jus, d'Orange,...</td>\n",
       "      <td>Thee x 1 order 220 Notes: _Jus d'Orange x 3 or...</td>\n",
       "      <td>[[B-QTY, O, B-UNIT, O, B-PRICE], [B-QTY, O, B-...</td>\n",
       "    </tr>\n",
       "    <tr>\n",
       "      <th>1</th>\n",
       "      <td>5531</td>\n",
       "      <td>5531/01/0000000036812256/202007162054-u1594925...</td>\n",
       "      <td>**start**                                 \\n--...</td>\n",
       "      <td>[[**start**], [--paid--], [Table:, 7], [------...</td>\n",
       "      <td>[[2, x, Gregorius, =&gt;, 15,90], [2, x, Grimberg...</td>\n",
       "      <td>Gregorius x 2 order 1590 Notes: _Grimbergen Bl...</td>\n",
       "      <td>[[B-QTY, O, B-UNIT, O, B-PRICE], [B-QTY, O, B-...</td>\n",
       "    </tr>\n",
       "    <tr>\n",
       "      <th>2</th>\n",
       "      <td>5531</td>\n",
       "      <td>5531/01/0000000036812256/202007162154-u1594929...</td>\n",
       "      <td>**start**                                 \\n--...</td>\n",
       "      <td>[[**start**], [--paid--], [Table:, 2], [------...</td>\n",
       "      <td>[[1, x, Lipton, Ice-Tea, =&gt;, 2,70], [2, x, Sou...</td>\n",
       "      <td>Lipton Ice-Tea x 1 order 270 Notes: _Sourcy Ro...</td>\n",
       "      <td>[[B-QTY, O, B-UNIT, I-UNIT, O, B-PRICE], [B-QT...</td>\n",
       "    </tr>\n",
       "    <tr>\n",
       "      <th>3</th>\n",
       "      <td>5531</td>\n",
       "      <td>5531/01/0000000036812256/202007162254-u1594932...</td>\n",
       "      <td>**start**                                 \\n--...</td>\n",
       "      <td>[[**start**], [--paid--], [Table:, 7], [------...</td>\n",
       "      <td>[[6, x, Pico, de, Aneto, =&gt;, 25,50], [1, x, Ru...</td>\n",
       "      <td>Pico de Aneto x 6 order 2550 Notes: _Rundvlees...</td>\n",
       "      <td>[[B-QTY, O, B-UNIT, I-UNIT, I-UNIT, O, B-PRICE...</td>\n",
       "    </tr>\n",
       "    <tr>\n",
       "      <th>4</th>\n",
       "      <td>5531</td>\n",
       "      <td>5531/01/0000000036812256/202007162254-u1594932...</td>\n",
       "      <td>**start**                                 \\n--...</td>\n",
       "      <td>[[**start**], [--paid--], [Table:, 2], [------...</td>\n",
       "      <td>[[1, x, Pinot, Grigio, Torre, Dei, V, =&gt;, 4,50...</td>\n",
       "      <td>Pinot Grigio Torre Dei V x 1 order 450 Notes: ...</td>\n",
       "      <td>[[B-QTY, O, B-UNIT, I-UNIT, I-UNIT, I-UNIT, I-...</td>\n",
       "    </tr>\n",
       "  </tbody>\n",
       "</table>\n",
       "</div>"
      ],
      "text/plain": [
       "   venue_id                                        receipt_key  \\\n",
       "0      5531  5531/01/0000000036812256/202007161954-u1594922...   \n",
       "1      5531  5531/01/0000000036812256/202007162054-u1594925...   \n",
       "2      5531  5531/01/0000000036812256/202007162154-u1594929...   \n",
       "3      5531  5531/01/0000000036812256/202007162254-u1594932...   \n",
       "4      5531  5531/01/0000000036812256/202007162254-u1594932...   \n",
       "\n",
       "                                        receipt_file  \\\n",
       "0  **start**                                 \\n--...   \n",
       "1  **start**                                 \\n--...   \n",
       "2  **start**                                 \\n--...   \n",
       "3  **start**                                 \\n--...   \n",
       "4  **start**                                 \\n--...   \n",
       "\n",
       "                                   tokenized_receipt  \\\n",
       "0  [[**start**], [--paid--], [Table:, 2], [------...   \n",
       "1  [[**start**], [--paid--], [Table:, 7], [------...   \n",
       "2  [[**start**], [--paid--], [Table:, 2], [------...   \n",
       "3  [[**start**], [--paid--], [Table:, 7], [------...   \n",
       "4  [[**start**], [--paid--], [Table:, 2], [------...   \n",
       "\n",
       "                                preprocessed_receipt  \\\n",
       "0  [[1, x, Thee, =>, 2,20], [3, x, Jus, d'Orange,...   \n",
       "1  [[2, x, Gregorius, =>, 15,90], [2, x, Grimberg...   \n",
       "2  [[1, x, Lipton, Ice-Tea, =>, 2,70], [2, x, Sou...   \n",
       "3  [[6, x, Pico, de, Aneto, =>, 25,50], [1, x, Ru...   \n",
       "4  [[1, x, Pinot, Grigio, Torre, Dei, V, =>, 4,50...   \n",
       "\n",
       "                                      parsed_receipt  \\\n",
       "0  Thee x 1 order 220 Notes: _Jus d'Orange x 3 or...   \n",
       "1  Gregorius x 2 order 1590 Notes: _Grimbergen Bl...   \n",
       "2  Lipton Ice-Tea x 1 order 270 Notes: _Sourcy Ro...   \n",
       "3  Pico de Aneto x 6 order 2550 Notes: _Rundvlees...   \n",
       "4  Pinot Grigio Torre Dei V x 1 order 450 Notes: ...   \n",
       "\n",
       "                                            bio_tags  \n",
       "0  [[B-QTY, O, B-UNIT, O, B-PRICE], [B-QTY, O, B-...  \n",
       "1  [[B-QTY, O, B-UNIT, O, B-PRICE], [B-QTY, O, B-...  \n",
       "2  [[B-QTY, O, B-UNIT, I-UNIT, O, B-PRICE], [B-QT...  \n",
       "3  [[B-QTY, O, B-UNIT, I-UNIT, I-UNIT, O, B-PRICE...  \n",
       "4  [[B-QTY, O, B-UNIT, I-UNIT, I-UNIT, I-UNIT, I-...  "
      ]
     },
     "execution_count": 19,
     "metadata": {},
     "output_type": "execute_result"
    }
   ],
   "source": [
    "df = df.dropna()\n",
    "data = df\n",
    "data.reset_index(drop=True, inplace=True)\n",
    "df.head()"
   ]
  },
  {
   "cell_type": "markdown",
   "id": "ea4b2812",
   "metadata": {},
   "source": [
    "### Extract labels for Noise tokens ###"
   ]
  },
  {
   "cell_type": "code",
   "execution_count": 20,
   "id": "a42b8178",
   "metadata": {},
   "outputs": [],
   "source": [
    "def get_new_bio_tags(tokenized_receipt, preprocessed_receipt, bio_tags):\n",
    "    new_tags = []\n",
    "    preprocessed_receipt_tuples = [tuple(line) for line in preprocessed_receipt]\n",
    "    \n",
    "    tag_dict = dict(zip(preprocessed_receipt_tuples, bio_tags))\n",
    "    for line in tokenized_receipt:\n",
    "        line_tuple = tuple(line)\n",
    "        if line not in preprocessed_receipt:\n",
    "            line_length = len(line)\n",
    "            o_line = ['O'] * line_length\n",
    "            new_tags.append(o_line)\n",
    "        else:\n",
    "            new_tags.append(tag_dict[line_tuple])\n",
    "            \n",
    "    return new_tags"
   ]
  },
  {
   "cell_type": "code",
   "execution_count": 21,
   "id": "06410c8b",
   "metadata": {},
   "outputs": [
    {
     "data": {
      "text/plain": [
       "[['**start**'],\n",
       " ['--paid--'],\n",
       " ['Table:', '1'],\n",
       " ['------------------------------------------'],\n",
       " ['2', 'x', 'Karmeliet', '=>', '11,00'],\n",
       " ['------------------------------------------'],\n",
       " ['11,00'],\n",
       " ['------------------------------------------'],\n",
       " ['Contant', '=>', '11,00'],\n",
       " ['------------------------------------------'],\n",
       " ['21%', '=>', '1,91'],\n",
       " ['------------------------------------------'],\n",
       " ['01.08.2020', '16:27'],\n",
       " ['**end**'],\n",
       " ['V\\x01']]"
      ]
     },
     "execution_count": 21,
     "metadata": {},
     "output_type": "execute_result"
    }
   ],
   "source": [
    "df['bio_tags'] = df.apply(lambda row: get_new_bio_tags(row['tokenized_receipt'], row['preprocessed_receipt'], row['bio_tags']), axis=1)\n",
    "df.loc[1234,'tokenized_receipt']"
   ]
  },
  {
   "cell_type": "code",
   "execution_count": 22,
   "id": "1c3b9bc0",
   "metadata": {},
   "outputs": [
    {
     "name": "stdout",
     "output_type": "stream",
     "text": [
      "[['O'], ['O'], ['O', 'O'], ['O'], ['B-QTY', 'O', 'B-UNIT', 'I-UNIT', 'O', 'B-PRICE'], ['B-QTY', 'O', 'B-UNIT', 'I-UNIT', 'O', 'B-PRICE'], ['O'], ['O'], ['O'], ['O', 'O', 'O'], ['O'], ['O', 'O', 'O'], ['O'], ['O', 'O'], ['O'], ['O']]\n",
      "[['**start**'], ['--paid--'], ['Table:', '5001'], ['------------------------------------------'], ['2', 'x', 'Kornuit', 'Vaas', '=>', '5,20'], ['1', 'x', 'Kornuit', 'Fluit', '=>', '2,30'], ['------------------------------------------'], ['7,50'], ['------------------------------------------'], ['Contant', '=>', '7,50'], ['------------------------------------------'], ['21%', '=>', '1,30'], ['------------------------------------------'], ['01.08.2020', '22:10'], ['**end**'], ['V\\x01']]\n"
     ]
    }
   ],
   "source": [
    "print(df.loc[1244,'bio_tags'])\n",
    "print(df.loc[1244, 'tokenized_receipt'])"
   ]
  },
  {
   "cell_type": "code",
   "execution_count": 23,
   "id": "5d643fac",
   "metadata": {},
   "outputs": [
    {
     "name": "stdout",
     "output_type": "stream",
     "text": [
      "[['**start**'], ['--paid--'], ['Table:', '11'], ['------------------------------------------'], ['2', 'x', 'High', 'Beer', '=>', '25,00'], ['1', 'x', 'texels', 'Tap', '=>', '4,50'], ['2', 'x', 'Hapjes', 'High', 'Wine/Beer', '=>', '25,00'], ['1', 'x', 'Twisterfrites', '=>', '4,50'], ['1', 'x', 'Chicken', 'Yakitori', '=>', '8,75'], ['------------------------------------------'], ['67,75'], ['------------------------------------------'], ['PIN', '=>', '42,75'], ['Voucher', '=>', '25,00'], ['------------------------------------------'], ['9%', '=>', '3,16'], ['21%', '=>', '5,12'], ['------------------------------------------'], ['16.07.2020', '22:29'], ['**end**'], ['V\\x01']]\n",
      "**start**                                 \n",
      "--paid--                                  \n",
      "Table: 11                                 \n",
      "------------------------------------------\n",
      " 2   x High Beer                =>   25,00\n",
      " 1   x texels Tap               =>    4,50\n",
      " 2   x Hapjes High Wine/Beer    =>   25,00\n",
      " 1   x Twisterfrites            =>    4,50\n",
      " 1   x Chicken Yakitori         =>    8,75\n",
      "------------------------------------------\n",
      "                                     67,75\n",
      "------------------------------------------\n",
      " PIN                         =>      42,75\n",
      " Voucher                     =>      25,00\n",
      "------------------------------------------\n",
      "     9% => 3,16                           \n",
      "    21% => 5,12                           \n",
      "------------------------------------------\n",
      "16.07.2020 22:29                          \n",
      "**end**                                   \n",
      "\u001d",
      "V\u0001\n"
     ]
    }
   ],
   "source": [
    "print(df.loc[8,'tokenized_receipt'])\n",
    "print(df.loc[8, 'receipt_file'])"
   ]
  },
  {
   "cell_type": "code",
   "execution_count": 24,
   "id": "d329af15",
   "metadata": {},
   "outputs": [],
   "source": [
    "train_df = df[df['venue_id'] != 5531]\n",
    "test_df = df[df['venue_id'] == 5531]\n",
    "\n",
    "train_corpus = [list(zip(line, line_tags)) for receipt, receipt_tags in zip(train_df['tokenized_receipt'], train_df['bio_tags']) for line, line_tags in zip(receipt, receipt_tags) ]\n",
    "test_corpus = [list(zip(line, line_tags)) for receipt, receipt_tags in zip(test_df['tokenized_receipt'], test_df['bio_tags']) for line, line_tags in zip(receipt, receipt_tags) ]\n",
    "corpus = [list(zip(line, line_tags)) for receipt, receipt_tags in zip(df['preprocessed_receipt'], df['bio_tags']) for line, line_tags in zip(receipt, receipt_tags) ]"
   ]
  },
  {
   "cell_type": "code",
   "execution_count": 25,
   "id": "612f222f",
   "metadata": {},
   "outputs": [],
   "source": [
    "\n",
    "train_df = df[df['venue_id'] != 5531]\n",
    "test_df = df[df['venue_id'] == 5531]\n",
    "\n",
    "train_corpus = [list(zip(line, line_tags)) for receipt, receipt_tags in zip(train_df['preprocessed_receipt'], train_df['bio_tags']) for line, line_tags in zip(receipt, receipt_tags) ]\n",
    "test_corpus = [list(zip(line, line_tags)) for receipt, receipt_tags in zip(test_df['preprocessed_receipt'], test_df['bio_tags']) for line, line_tags in zip(receipt, receipt_tags) ]\n",
    "corpus = [list(zip(line, line_tags)) for receipt, receipt_tags in zip(df['preprocessed_receipt'], df['bio_tags']) for line, line_tags in zip(receipt, receipt_tags) ]\n"
   ]
  },
  {
   "cell_type": "code",
   "execution_count": 26,
   "id": "e2396241",
   "metadata": {},
   "outputs": [
    {
     "name": "stdout",
     "output_type": "stream",
     "text": [
      "['B-QTY', 'B-UNIT', 'O', 'I-NOTE', 'B-PRICE', 'B-NOTE', 'I-UNIT']\n"
     ]
    }
   ],
   "source": [
    "tokens = [token for receipt in df['tokenized_receipt'] for line in receipt for token in line]\n",
    "words = list(set(tokens))\n",
    "bio_tags = [tag for receipt in df['bio_tags'] for line in receipt for tag in line]\n",
    "tags = list(set(bio_tags))\n",
    "print(tags)"
   ]
  },
  {
   "cell_type": "markdown",
   "id": "00067c39",
   "metadata": {},
   "source": [
    "### Data Pre-processing ###"
   ]
  },
  {
   "cell_type": "code",
   "execution_count": 27,
   "id": "e4a13cb0",
   "metadata": {},
   "outputs": [],
   "source": [
    "word2idx = {w: i + 2 for i, w in enumerate(words)}\n",
    "word2idx[\"UNK\"] = 1\n",
    "word2idx[\"PAD\"] = 0\n",
    "\n",
    "idx2word = {i: w for w, i in word2idx.items()}\n",
    "\n",
    "tag2idx = {t: i+1 for i, t in enumerate(tags)}\n",
    "tag2idx[\"PAD\"] = 0\n",
    "\n",
    "idx2tag = {i: w for w, i in tag2idx.items()}"
   ]
  },
  {
   "cell_type": "code",
   "execution_count": 28,
   "id": "86ce56d0",
   "metadata": {},
   "outputs": [],
   "source": [
    "from gensim.models import FastText\n",
    "\n",
    "word2vec_model = FastText(tokens, vector_size=300, window=5, min_count=1, workers=4)\n",
    "\n",
    "word2vec_model.save(\"restaurant_fasttext.model\")"
   ]
  },
  {
   "cell_type": "code",
   "execution_count": 29,
   "id": "d1c570ee",
   "metadata": {},
   "outputs": [
    {
     "name": "stdout",
     "output_type": "stream",
     "text": [
      "Converted 4819 words (0 misses)\n"
     ]
    }
   ],
   "source": [
    "hits = 0\n",
    "misses = 0\n",
    "embedding_dim = 300\n",
    "\n",
    "import numpy as np\n",
    "\n",
    "embedding_matrix = np.zeros((len(word2idx), word2vec_model.vector_size))\n",
    "for word, i in zip(word2idx.keys(), word2idx.values()):\n",
    "    embedding_vector = None\n",
    "    try:\n",
    "        embedding_vector = word2vec_model.wv[word]\n",
    "    except KeyError:\n",
    "        pass\n",
    "\n",
    "    if embedding_vector is not None:\n",
    "        embedding_matrix[i] = embedding_vector\n",
    "        hits += 1\n",
    "    else:\n",
    "        misses += 1\n",
    "\n",
    "print(\"Converted %d words (%d misses)\" % (hits, misses))\n"
   ]
  },
  {
   "cell_type": "code",
   "execution_count": 30,
   "id": "f9250d36",
   "metadata": {},
   "outputs": [],
   "source": [
    "MAX_LEN = 9"
   ]
  },
  {
   "cell_type": "code",
   "execution_count": 31,
   "id": "1692b2ec",
   "metadata": {},
   "outputs": [
    {
     "name": "stdout",
     "output_type": "stream",
     "text": [
      "Raw Sample:\n",
      "  1\n",
      "\n",
      " \n",
      "Raw Label:\n",
      "  O\n",
      "\n",
      " \n",
      "After processing, sample:\n",
      " [1600    0    0    0    0    0    0    0    0]\n",
      "\n",
      " \n",
      "After processing, labels:\n",
      " [[0. 0. 0. 1. 0. 0. 0. 0.]\n",
      " [1. 0. 0. 0. 0. 0. 0. 0.]\n",
      " [1. 0. 0. 0. 0. 0. 0. 0.]\n",
      " [1. 0. 0. 0. 0. 0. 0. 0.]\n",
      " [1. 0. 0. 0. 0. 0. 0. 0.]\n",
      " [1. 0. 0. 0. 0. 0. 0. 0.]\n",
      " [1. 0. 0. 0. 0. 0. 0. 0.]\n",
      " [1. 0. 0. 0. 0. 0. 0. 0.]\n",
      " [1. 0. 0. 0. 0. 0. 0. 0.]]\n"
     ]
    }
   ],
   "source": [
    "X_tr = [[word2idx[w[0]] for w in s] for s in train_corpus]\n",
    "X_te = [[word2idx[w[0]] for w in s] for s in test_corpus]\n",
    "\n",
    "X_tr = pad_sequences(maxlen=MAX_LEN, sequences=X_tr, padding=\"post\", value=word2idx[\"PAD\"])\n",
    "X_te = pad_sequences(maxlen=MAX_LEN, sequences=X_te, padding=\"post\", value=word2idx[\"PAD\"])\n",
    "\n",
    "y_tr = [[tag2idx[w[1]] for w in s] for s in train_corpus]\n",
    "y_te = [[tag2idx[w[1]] for w in s] for s in test_corpus]\n",
    "\n",
    "y_tr = pad_sequences(maxlen=MAX_LEN, sequences=y_tr, padding=\"post\", value=tag2idx[\"PAD\"])\n",
    "y_te = pad_sequences(maxlen=MAX_LEN, sequences=y_te, padding=\"post\", value=tag2idx[\"PAD\"])\n",
    "from keras.utils import to_categorical\n",
    "\n",
    "y_tr = [to_categorical(i, num_classes=len(tags)+1) for i in y_tr]\n",
    "y_te = [to_categorical(i, num_classes=len(tags)+1) for i in y_te] # n_tags+1(PAD)\n",
    "\n",
    "# from sklearn.model_selection import train_test_split\n",
    "# X_tr, X_te, y_tr, y_te = train_test_split(X, y, test_size=0.1)\n",
    "X_tr.shape, X_te.shape, np.array(y_tr).shape, np.array(y_te).shape\n",
    "\n",
    "\n",
    "print('Raw Sample:\\n ', ' '.join([w[0] for w in train_corpus[1]]))\n",
    "print('\\n ' )\n",
    "print('Raw Label:\\n ', ' '.join([w[1] for w in train_corpus[1]]))\n",
    "print('\\n ' )\n",
    "print('After processing, sample:\\n', X_tr[0])\n",
    "print('\\n ' )\n",
    "print('After processing, labels:\\n', y_tr[0])"
   ]
  },
  {
   "cell_type": "code",
   "execution_count": 32,
   "id": "02318eed",
   "metadata": {},
   "outputs": [
    {
     "data": {
      "text/plain": [
       "((29430, 9), (7788, 9), (29430, 9, 8), (7788, 9, 8))"
      ]
     },
     "execution_count": 32,
     "metadata": {},
     "output_type": "execute_result"
    }
   ],
   "source": [
    "X_tr.shape, X_te.shape, np.array(y_tr).shape, np.array(y_te).shape"
   ]
  },
  {
   "cell_type": "code",
   "execution_count": 33,
   "id": "b045aec5",
   "metadata": {},
   "outputs": [],
   "source": [
    "y_tr = np.array(y_tr)\n",
    "y_te = np.array(y_te)"
   ]
  },
  {
   "cell_type": "markdown",
   "id": "fbb889d6",
   "metadata": {},
   "source": [
    "### Model Training ###"
   ]
  },
  {
   "cell_type": "code",
   "execution_count": 34,
   "id": "03beae01",
   "metadata": {},
   "outputs": [
    {
     "name": "stdout",
     "output_type": "stream",
     "text": [
      "Model: \"model\"\n",
      "_________________________________________________________________\n",
      " Layer (type)                Output Shape              Param #   \n",
      "=================================================================\n",
      " input_1 (InputLayer)        [(None, 9)]               0         \n",
      "                                                                 \n",
      " embedding_layer (Embedding  (None, 9, 300)            1445700   \n",
      " )                                                               \n",
      "                                                                 \n",
      " bidirectional (Bidirection  (None, 9, 200)            320800    \n",
      " al)                                                             \n",
      "                                                                 \n",
      " bidirectional_1 (Bidirecti  (None, 9, 400)            641600    \n",
      " onal)                                                           \n",
      "                                                                 \n",
      " bidirectional_2 (Bidirecti  (None, 9, 200)            400800    \n",
      " onal)                                                           \n",
      "                                                                 \n",
      " time_distributed (TimeDist  (None, 9, 25)             5025      \n",
      " ributed)                                                        \n",
      "                                                                 \n",
      " crf (CRF)                   [(None, 9),               288       \n",
      "                              (None, 9, 8),                      \n",
      "                              (None,),                           \n",
      "                              (8, 8)]                            \n",
      "                                                                 \n",
      "=================================================================\n",
      "Total params: 2814213 (10.74 MB)\n",
      "Trainable params: 2814213 (10.74 MB)\n",
      "Non-trainable params: 0 (0.00 Byte)\n",
      "_________________________________________________________________\n"
     ]
    }
   ],
   "source": [
    "def build_model(max_len = MAX_LEN, input_dim = len(word2idx),embedding_dim = 300):\n",
    "  input = Input(shape=(max_len,))\n",
    "\n",
    "  embeddings = Embedding(\n",
    "      input_dim,\n",
    "      embedding_dim,\n",
    "      weights=[embedding_matrix],\n",
    "    input_length=max_len,\n",
    "       mask_zero=True,\n",
    "    trainable=True,\n",
    "      name = 'embedding_layer'\n",
    "  )(input)\n",
    "\n",
    "  output_sequences = Bidirectional(LSTM(units=100,return_sequences=True))(embeddings)\n",
    "  output_sequences = Bidirectional(LSTM(units=200, return_sequences=True))(output_sequences)\n",
    "  output_sequences = Bidirectional(LSTM(units=100, return_sequences=True))(output_sequences)\n",
    "    \n",
    "  dense_out = TimeDistributed(Dense(25, activation=\"relu\"))(output_sequences)\n",
    "\n",
    "  mask = Input(shape=(max_len,), dtype=tf.bool)\n",
    "  crf = CRF(8, name='crf')\n",
    "  predicted_sequence, potentials, sequence_length, crf_kernel = crf(dense_out)\n",
    "\n",
    "  model = Model(input, potentials)\n",
    "  model.compile(\n",
    "      optimizer=AdamW(weight_decay=0.001),\n",
    "      loss= SigmoidFocalCrossEntropy())\n",
    "\n",
    "  return model\n",
    "\n",
    "model = build_model()\n",
    "\n",
    "save_model = tf.keras.callbacks.ModelCheckpoint(filepath='ner_crf.h5',\n",
    "  monitor='val_loss',\n",
    "  save_weights_only=True,\n",
    "  save_best_only=True,\n",
    "  verbose=1\n",
    ")\n",
    "\n",
    "es = tf.keras.callbacks.EarlyStopping(monitor='val_loss', verbose=1, patience=5)\n",
    "\n",
    "callbacks = [save_model, es]\n",
    "\n",
    "model.summary()\n"
   ]
  },
  {
   "cell_type": "code",
   "execution_count": 35,
   "id": "dc87929b",
   "metadata": {},
   "outputs": [
    {
     "name": "stdout",
     "output_type": "stream",
     "text": [
      "Epoch 1/20\n",
      "WARNING:tensorflow:Gradients do not exist for variables ['chain_kernel:0'] when minimizing the loss. If you're using `model.compile()`, did you forget to provide a `loss` argument?\n",
      "WARNING:tensorflow:Gradients do not exist for variables ['chain_kernel:0'] when minimizing the loss. If you're using `model.compile()`, did you forget to provide a `loss` argument?\n",
      "459/460 [============================>.] - ETA: 0s - loss: 0.3913\n",
      "Epoch 1: val_loss improved from inf to 0.15480, saving model to ner_crf.h5\n",
      "460/460 [==============================] - 29s 50ms/step - loss: 0.3909 - val_loss: 0.1548\n",
      "Epoch 2/20\n",
      "459/460 [============================>.] - ETA: 0s - loss: 0.0937\n",
      "Epoch 2: val_loss improved from 0.15480 to 0.07012, saving model to ner_crf.h5\n",
      "460/460 [==============================] - 21s 45ms/step - loss: 0.0937 - val_loss: 0.0701\n",
      "Epoch 3/20\n",
      "459/460 [============================>.] - ETA: 0s - loss: 0.0428\n",
      "Epoch 3: val_loss improved from 0.07012 to 0.05010, saving model to ner_crf.h5\n",
      "460/460 [==============================] - 21s 45ms/step - loss: 0.0428 - val_loss: 0.0501\n",
      "Epoch 4/20\n",
      "459/460 [============================>.] - ETA: 0s - loss: 0.0280\n",
      "Epoch 4: val_loss improved from 0.05010 to 0.04255, saving model to ner_crf.h5\n",
      "460/460 [==============================] - 21s 46ms/step - loss: 0.0280 - val_loss: 0.0425\n",
      "Epoch 5/20\n",
      "459/460 [============================>.] - ETA: 0s - loss: 0.0212\n",
      "Epoch 5: val_loss improved from 0.04255 to 0.03789, saving model to ner_crf.h5\n",
      "460/460 [==============================] - 21s 47ms/step - loss: 0.0212 - val_loss: 0.0379\n",
      "Epoch 6/20\n",
      "459/460 [============================>.] - ETA: 0s - loss: 0.0170\n",
      "Epoch 6: val_loss improved from 0.03789 to 0.03209, saving model to ner_crf.h5\n",
      "460/460 [==============================] - 21s 46ms/step - loss: 0.0170 - val_loss: 0.0321\n",
      "Epoch 7/20\n",
      "460/460 [==============================] - ETA: 0s - loss: 0.0136\n",
      "Epoch 7: val_loss improved from 0.03209 to 0.02802, saving model to ner_crf.h5\n",
      "460/460 [==============================] - 21s 46ms/step - loss: 0.0136 - val_loss: 0.0280\n",
      "Epoch 8/20\n",
      "459/460 [============================>.] - ETA: 0s - loss: 0.0113\n",
      "Epoch 8: val_loss did not improve from 0.02802\n",
      "460/460 [==============================] - 21s 46ms/step - loss: 0.0113 - val_loss: 0.0300\n",
      "Epoch 9/20\n",
      "460/460 [==============================] - ETA: 0s - loss: 0.0094\n",
      "Epoch 9: val_loss did not improve from 0.02802\n",
      "460/460 [==============================] - 21s 46ms/step - loss: 0.0094 - val_loss: 0.1124\n",
      "Epoch 10/20\n",
      "460/460 [==============================] - ETA: 0s - loss: 0.0081\n",
      "Epoch 10: val_loss did not improve from 0.02802\n",
      "460/460 [==============================] - 21s 46ms/step - loss: 0.0081 - val_loss: 0.0312\n",
      "Epoch 11/20\n",
      "459/460 [============================>.] - ETA: 0s - loss: 0.0068\n",
      "Epoch 11: val_loss did not improve from 0.02802\n",
      "460/460 [==============================] - 21s 46ms/step - loss: 0.0068 - val_loss: 0.0297\n",
      "Epoch 12/20\n",
      "459/460 [============================>.] - ETA: 0s - loss: 0.0057\n",
      "Epoch 12: val_loss did not improve from 0.02802\n",
      "460/460 [==============================] - 21s 45ms/step - loss: 0.0057 - val_loss: 0.0339\n",
      "Epoch 12: early stopping\n"
     ]
    }
   ],
   "source": [
    "history = model.fit(\n",
    "  X_tr,\n",
    "  y_tr,\n",
    "  batch_size=64,\n",
    "  epochs=20,\n",
    "  validation_data=(X_te, y_te),\n",
    "  callbacks=callbacks,\n",
    "  shuffle=True\n",
    ")"
   ]
  },
  {
   "cell_type": "markdown",
   "id": "15882c47",
   "metadata": {},
   "source": [
    "### Results ###"
   ]
  },
  {
   "cell_type": "code",
   "execution_count": 169,
   "id": "a982eeca",
   "metadata": {},
   "outputs": [
    {
     "data": {
      "image/png": "[encoded data removed]",
      "text/plain": [
       "<Figure size 640x480 with 1 Axes>"
      ]
     },
     "metadata": {},
     "output_type": "display_data"
    }
   ],
   "source": [
    "from matplotlib import pyplot\n",
    "\n",
    "pyplot.plot(history.history['loss'], label='train')\n",
    "pyplot.plot(history.history['val_loss'], label='test')\n",
    "pyplot.legend()\n",
    "pyplot.show()"
   ]
  },
  {
   "cell_type": "code",
   "execution_count": 74,
   "id": "e8ba5299",
   "metadata": {},
   "outputs": [
    {
     "name": "stdout",
     "output_type": "stream",
     "text": [
      "1049/1049 [==============================] - 7s 7ms/step\n"
     ]
    },
    {
     "data": {
      "image/png": "[encoded data removed]",
      "text/plain": [
       "<Figure size 1000x800 with 1 Axes>"
      ]
     },
     "metadata": {},
     "output_type": "display_data"
    }
   ],
   "source": [
    "import seaborn as sns\n",
    "import matplotlib.pyplot as plt\n",
    "from sklearn.metrics import confusion_matrix\n",
    "import numpy as np\n",
    "\n",
    "predictions = model.predict(X_te)\n",
    "\n",
    "predicted_tags = np.argmax(predictions, axis=-1)\n",
    "predicted_tags = [[idx2tag[tag] for tag in sample] for sample in predicted_tags]\n",
    "\n",
    "flatten_predicted = [tag for sample in predicted_tags for tag in sample]\n",
    "flatten_true = [idx2tag[np.argmax(tag)] for sample in y_te for tag in sample]\n",
    "\n",
    "unique_tags = list(set(flatten_true + flatten_predicted))\n",
    "\n",
    "cm = confusion_matrix(flatten_true, flatten_predicted, labels=unique_tags)\n",
    "\n",
    "cm_df = pd.DataFrame(cm, index=unique_tags, columns=unique_tags)\n",
    "\n",
    "plt.figure(figsize=(10, 8))\n",
    "sns.set(font_scale=1.2)\n",
    "\n",
    "sns.heatmap(cm_df, annot=True, cmap=\"Blues\", fmt=\"d\", cbar=False)\n",
    "\n",
    "plt.title(\"Confusion Matrix\")\n",
    "plt.xlabel(\"Predicted Label\")\n",
    "plt.ylabel(\"True Label\")\n",
    "plt.xticks(rotation=45, ha=\"right\")\n",
    "plt.yticks(rotation=0)\n",
    "\n",
    "plt.show()"
   ]
  },
  {
   "cell_type": "code",
   "execution_count": 75,
   "id": "ce581cf6",
   "metadata": {},
   "outputs": [
    {
     "name": "stderr",
     "output_type": "stream",
     "text": [
      "/opt/homebrew/lib/python3.11/site-packages/sklearn/metrics/_classification.py:1517: UndefinedMetricWarning: Precision is ill-defined and being set to 0.0 in labels with no predicted samples. Use `zero_division` parameter to control this behavior.\n",
      "  _warn_prf(average, modifier, f\"{metric.capitalize()} is\", len(result))\n",
      "/opt/homebrew/lib/python3.11/site-packages/sklearn/metrics/_classification.py:1517: UndefinedMetricWarning: Precision is ill-defined and being set to 0.0 in labels with no predicted samples. Use `zero_division` parameter to control this behavior.\n",
      "  _warn_prf(average, modifier, f\"{metric.capitalize()} is\", len(result))\n"
     ]
    },
    {
     "name": "stdout",
     "output_type": "stream",
     "text": [
      "Classification Report:\n",
      "                precision    recall  f1-score   support\n",
      "\n",
      "      B-UNIT      0.366     0.848     0.511      3300\n",
      "      B-NOTE      0.000     0.000     0.000       704\n",
      "       B-QTY      0.764     0.973     0.856      6108\n",
      "     B-PRICE      0.406     0.944     0.568      3298\n",
      "         PAD      1.000     0.954     0.976    224644\n",
      "      I-UNIT      0.304     0.745     0.431      4212\n",
      "           O      0.822     0.758     0.789     58934\n",
      "      I-NOTE      0.000     0.000     0.000       768\n",
      "\n",
      "    accuracy                          0.907    301968\n",
      "   macro avg      0.458     0.653     0.516    301968\n",
      "weighted avg      0.933     0.907     0.915    301968\n",
      "\n"
     ]
    },
    {
     "name": "stderr",
     "output_type": "stream",
     "text": [
      "/opt/homebrew/lib/python3.11/site-packages/sklearn/metrics/_classification.py:1517: UndefinedMetricWarning: Precision is ill-defined and being set to 0.0 in labels with no predicted samples. Use `zero_division` parameter to control this behavior.\n",
      "  _warn_prf(average, modifier, f\"{metric.capitalize()} is\", len(result))\n"
     ]
    }
   ],
   "source": [
    "from sklearn.metrics import classification_report\n",
    "print(\"Classification Report:\\n \", classification_report(flatten_predicted, flatten_true, labels=unique_tags, digits=3))"
   ]
  },
  {
   "cell_type": "code",
   "execution_count": 51,
   "id": "70609746",
   "metadata": {},
   "outputs": [],
   "source": []
  },
  {
   "cell_type": "code",
   "execution_count": null,
   "id": "e4fd238e",
   "metadata": {},
   "outputs": [],
   "source": []
  }
 ],
 "metadata": {
  "kernelspec": {
   "display_name": "Python 3 (ipykernel)",
   "language": "python",
   "name": "python3"
  },
  "language_info": {
   "codemirror_mode": {
    "name": "ipython",
    "version": 3
   },
   "file_extension": ".py",
   "mimetype": "text/x-python",
   "name": "python",
   "nbconvert_exporter": "python",
   "pygments_lexer": "ipython3",
   "version": "3.11.9"
  }
 },
 "nbformat": 4,
 "nbformat_minor": 5
}
